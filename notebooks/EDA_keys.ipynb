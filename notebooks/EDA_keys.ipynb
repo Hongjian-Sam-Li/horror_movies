{
 "cells": [
  {
   "cell_type": "markdown",
   "id": "6b6ace0e-97f5-4896-a791-b10e021fc00d",
   "metadata": {},
   "source": [
    "# Horror Movies Key EDAs"
   ]
  },
  {
   "cell_type": "markdown",
   "id": "3e4c2e54-c120-4548-97ab-b887f5bdca5c",
   "metadata": {},
   "source": [
    "## Introduction\n",
    "\n",
    "We want to explore the relationship between the ratings and the revenue for horror movies based on the dataset we collected. In specific, we want to answer the following question: do horror movies with a higher rating also have higher revenue than those with a lower rating. In this context, we will consider movies as highly rated if their ratings are above the median rating of all movies in the dataset, and movies as poorly rated if their ratings are below the median rating. "
   ]
  },
  {
   "cell_type": "markdown",
   "id": "02e454cb-9083-4246-89f5-fadb2a687bb3",
   "metadata": {},
   "source": [
    "## Dataset Introduction\n",
    "\n",
    "Original purpose of creating this dataset (by the original author) is to explore a dataset about horror movies dating back to the 1950s. Data set was extracted from The Movie Datbase via the tmdb API using R httr. There are ~35K movie records in this dataset. There are 18 columns and we are going to focus on column `vote_average` and `revenue` columns for our study.\n",
    "\n",
    "When pre-processing the data, we decided to drop columns including: \n",
    "\n",
    "- original_title\n",
    "- overview\n",
    "- tagline\n",
    "- poster_path\n",
    "- status\n",
    "- backdrop_path\n",
    "- collection\n",
    "- collection_name\n",
    "\n",
    "In addition, we decided to drop observations which have a very low number for vote_count. There are several movies in the dataset which have only 1 or 2 total votes and then have vote_average=10.0. Therefore, we decided to filter out observations which have vote_count < 10 to ensure meaningful outcome of the experiment."
   ]
  },
  {
   "cell_type": "markdown",
   "id": "34fff20e-fdde-445c-8bb2-d27dca906aa0",
   "metadata": {},
   "source": [
    "## EDA Analysis Result\n",
    "\n",
    "Here, we first want to see the distribution for `vote_average` and `revenue` respectively.\n",
    "\n",
    "<img src=\"https://raw.githubusercontent.com/UBC-MDS/horror_movies/main/image/vote_avg_density.png\"  width=\"300\" height=\"100\"> <img src=\"https://raw.githubusercontent.com/UBC-MDS/horror_movies/main/image/revenue_density.png\"  width=\"300\" height=\"100\">\n",
    "\n",
    "\n",
    "<img src=\"https://raw.githubusercontent.com/UBC-MDS/horror_movies/main/image/horror_scatter_vote.png\"  width=\"300\" height=\"100\">\n",
    "\n",
    "Then, we first want to explore the pairwise correlation between several important variables, including:\n",
    "\n",
    "- budget\n",
    "- runtime\n",
    "- revenue\n",
    "- vote_average\n",
    "\n",
    "<img src=\"https://raw.githubusercontent.com/UBC-MDS/horror_movies/main/image/attribute_pairs.png\"  width=\"600\" height=\"100\">\n",
    "\n",
    "To target our research question, we also plot out the correlation between `vote_average` and `revenue`:\n",
    "\n",
    "<img src=\"https://raw.githubusercontent.com/UBC-MDS/horror_movies/main/image/horror_scatter_vote.png\" width=\"300\" height=\"100\">"
   ]
  },
  {
   "cell_type": "markdown",
   "id": "062e9977-58d7-4061-8153-8b1457a84953",
   "metadata": {},
   "source": [
    "## Hypothesis Testing Result\n",
    "\n",
    "We set up a one-tailed hypothesis test to answer the following question:\n",
    "\n",
    "\"Do horror movies with a higher rating also have higher revenue than those with a lower rating?\"\n",
    "\n",
    "Mathematically, we have set up the following metrics:\n",
    "\n",
    "- `test statistic`: $Median_{movies\\_high} - Median_{movies\\_low}$ \n",
    "- `Null Hypothesis`: $H_0$: $Median_{movies\\_high} - Median_{movies\\_low}$ = 0\n",
    "- `Alternative Hypothesis`: $H_1$: $Median_{movies\\_high} - Median_{movies\\_low}$ > 0\n",
    "\n",
    "For this test, we will use $\\alpha = 0.05$ as our confidence level.\n",
    "\n",
    "Some findings (analysis to be added):\n",
    "\n",
    "<img src=\"https://raw.githubusercontent.com/UBC-MDS/horror_movies/main/results/revenue_null_distribution.png\" width=\"400\" height=\"100\">\n",
    "\n",
    "\n",
    "|observed_test_stat|p_value|null_dist_q95     |null_dist_mean   |null_dist_se      |\n",
    "|------------------|-------|------------------|-----------------|------------------|\n",
    "|9007166.5         |1.5e-4 |2429231.5999999987|8042.138475000001|1487583.7235765792|\n",
    "\n",
    "\n",
    "From the result above, we observe that `p_value` is much smaller than the confidence level, therefore, we conclude that we have sufficient evidence to reject the null hypothesis. We also expect the median revenue of higher rated horror movies to be $8042.14 higher than the median revenue of lower rated horror movies.\n",
    "\n",
    "\n",
    "Since we observed a large standard error (variation in revenue), we are interested to see the distribution of the revenue for these two groups.\n",
    "\n",
    "\n",
    "<img src=\"https://raw.githubusercontent.com/UBC-MDS/horror_movies/main/results/revenue_violin_by_rating.png\" width=\"400\" height=\"100\">\n",
    "\n",
    "|rating_group|sample_median|sample_sd         |sample_size      |\n",
    "|------------|-------------|------------------|-----------------|\n",
    "|high        |12717468     |79135511.97789192 |634              |\n",
    "|low         |3710301.5    |42174996.847960226|692              |\n",
    "\n",
    "We observed that the sample sizes for the two groups are balanced, and both have a large variation within the group. The sample median revenue for group that is highly rated is much larger than the sample median revenue for poorly rated group."
   ]
  },
  {
   "cell_type": "markdown",
   "id": "b7c3ad97-301b-4566-9b43-9fda68a87f7f",
   "metadata": {},
   "source": [
    "## Critique\n",
    "\n",
    "We still need to do more work in data analysis to perform the hypothesis testing. In addition, we excluded other factors that might impact on the `revenue` on purpose (for example, those included in the attribute pairwise plots). But we might want to consider analyzing their correlation with `vote_average` and `revenue` to make a more meaningful conclusion."
   ]
  },
  {
   "cell_type": "markdown",
   "id": "9568a8d2-7372-4e7c-bd3d-ed0015424049",
   "metadata": {
    "tags": []
   },
   "source": [
    "## Citation\n",
    "\n",
    "- [Data Source for Horror Movies](https://github.com/rfordatascience/tidytuesday)\n",
    "- [tidytuesday Introduction](https://github.com/rfordatascience/tidytuesday/tree/master/data/2022/2022-11-01)\n",
    "- [Sample Project (Breast Cancer Predictor)](https://github.com/ttimbers/breast_cancer_predictor)\n",
    "- [EDA Analysis Reference from DSCI 531](https://pages.github.ubc.ca/mds-2022-23/DSCI_531_viz-1_students/lectures/4-eda.html)\n",
    "- [ggplot Doc](https://ggplot2.tidyverse.org/)"
   ]
  }
 ],
 "metadata": {
  "kernelspec": {
   "display_name": "Python 3 (ipykernel)",
   "language": "python",
   "name": "python3"
  },
  "language_info": {
   "codemirror_mode": {
    "name": "ipython",
    "version": 3
   },
   "file_extension": ".py",
   "mimetype": "text/x-python",
   "name": "python",
   "nbconvert_exporter": "python",
   "pygments_lexer": "ipython3",
   "version": "3.10.6"
  }
 },
 "nbformat": 4,
 "nbformat_minor": 5
}
