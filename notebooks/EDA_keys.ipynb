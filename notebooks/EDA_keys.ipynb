{
 "cells": [
  {
   "cell_type": "markdown",
   "id": "6b6ace0e-97f5-4896-a791-b10e021fc00d",
   "metadata": {},
   "source": [
    "# Horror Movies Key EDAs"
   ]
  },
  {
   "cell_type": "markdown",
   "id": "286815b8-9f3b-461a-8495-368c02d2f6f3",
   "metadata": {},
   "source": [
    "A fifth script: an .Rmd or .ipynb files that presents the key useful (not all!) exploratory data analysis as well as the statistical summaries and figures in a little report. \n",
    "There should be a written narrative in this document that \n",
    "\n",
    "introduces and justifies your question, \n",
    "introduces the data set, \n",
    "\n",
    "presents the findings/results, \n",
    "and interprets the findings/results in context of the question. \n",
    "\n",
    "Some critique of the analysis is also expected (limitations, assumptions, etc) \n",
    "and a statement of future directions (what would you do next if you had more time to work on this). \n",
    "\n",
    "The report is expected to be 1-2 written pages (excluding figures, tables and references). \n",
    "You are expected to have a reference section and cite at least 4 external sources (data source can be one of these citations) in addition to citing the programming languages and packages used."
   ]
  },
  {
   "cell_type": "markdown",
   "id": "3e4c2e54-c120-4548-97ab-b887f5bdca5c",
   "metadata": {},
   "source": [
    "## Introduction\n",
    "\n",
    "We want to explore the relationship between the ratings and the revenue for horror movies based on the dataset we collected. In specific, we want to answer the following question: do horror movies with a higher rating also have higher revenue than those with a lower rating. In this context, we will consider movies as highly rated if their ratings are above the median rating of all movies in the dataset, and movies as poorly rated if their ratings are below the median rating. "
   ]
  },
  {
   "cell_type": "markdown",
   "id": "02e454cb-9083-4246-89f5-fadb2a687bb3",
   "metadata": {},
   "source": [
    "## Dataset Introduction\n",
    "\n",
    "Original purpose of creating this dataset (by the original author) is to explore a dataset about horror movies dating back to the 1950s. Data set was extracted from The Movie Datbase via the tmdb API using R httr. There are ~35K movie records in this dataset. There are 18 columns and we are going to focus on column `vote_average` and `revenue` columns for our study."
   ]
  },
  {
   "cell_type": "markdown",
   "id": "34fff20e-fdde-445c-8bb2-d27dca906aa0",
   "metadata": {},
   "source": [
    "## EDA Analysis Result"
   ]
  },
  {
   "cell_type": "markdown",
   "id": "062e9977-58d7-4061-8153-8b1457a84953",
   "metadata": {},
   "source": [
    "## Hypothesis Testing Result\n",
    "\n",
    "We set up a one-tailed hypothesis test to answer the following question:\n",
    "\n",
    "\"Do horror movies with a higher rating also have higher revenue than those with a lower rating?\"\n",
    "\n",
    "Mathematically, we have set up the following metrics:\n",
    "\n",
    "- `test statistic`: $Median_{movies\\_high} - Median_{movies\\_low}$ \n",
    "- `Null Hypothesis`: $H_0$: $Median_{movies\\_high} - Median_{movies\\_low}$ = 0\n",
    "- `Alternative Hypothesis`: $H_1$: $Median_{movies\\_high} - Median_{movies\\_low}$ > 0"
   ]
  },
  {
   "cell_type": "markdown",
   "id": "b7c3ad97-301b-4566-9b43-9fda68a87f7f",
   "metadata": {},
   "source": [
    "## Critique"
   ]
  },
  {
   "cell_type": "markdown",
   "id": "9568a8d2-7372-4e7c-bd3d-ed0015424049",
   "metadata": {
    "tags": []
   },
   "source": [
    "## Citation\n",
    "\n",
    "- [Data Source for Horror Movies](https://github.com/rfordatascience/tidytuesday)\n",
    "- [tidytuesday Introduction](https://github.com/rfordatascience/tidytuesday/tree/master/data/2022/2022-11-01)\n",
    "- [Sample Project (Breast Cancer Predictor)](https://github.com/ttimbers/breast_cancer_predictor)\n",
    "- [EDA Analysis Reference from DSCI 531](https://pages.github.ubc.ca/mds-2022-23/DSCI_531_viz-1_students/lectures/4-eda.html)\n",
    "- [ggplot Doc](https://ggplot2.tidyverse.org/)"
   ]
  }
 ],
 "metadata": {
  "kernelspec": {
   "display_name": "Python 3 (ipykernel)",
   "language": "python",
   "name": "python3"
  },
  "language_info": {
   "codemirror_mode": {
    "name": "ipython",
    "version": 3
   },
   "file_extension": ".py",
   "mimetype": "text/x-python",
   "name": "python",
   "nbconvert_exporter": "python",
   "pygments_lexer": "ipython3",
   "version": "3.10.6"
  }
 },
 "nbformat": 4,
 "nbformat_minor": 5
}
